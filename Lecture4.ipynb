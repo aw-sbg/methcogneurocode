{
 "cells": [
  {
   "cell_type": "markdown",
   "metadata": {},
   "source": [
    "# Representational Similarity Analysis"
   ]
  },
  {
   "cell_type": "markdown",
   "metadata": {},
   "source": [
    "Let's grab all necessary libraries."
   ]
  },
  {
   "cell_type": "code",
   "execution_count": 9,
   "metadata": {},
   "outputs": [],
   "source": [
    "from mne.decoding import SlidingEstimator, cross_val_multiscore\n",
    "from sklearn.preprocessing import StandardScaler\n",
    "from sklearn.discriminant_analysis import LinearDiscriminantAnalysis\n",
    "from sklearn.pipeline import make_pipeline\n",
    "\n",
    "import seaborn as sns #a nice library for (“publication-ready“) visualization\n",
    "import pandas as pd #a nice library for handling data frames\n",
    "import numpy as np\n",
    "import mne\n",
    "\n",
    "from scipy.stats import spearmanr\n",
    "\n",
    "import itertools\n",
    "import matplotlib.pyplot as plt"
   ]
  },
  {
   "cell_type": "markdown",
   "metadata": {},
   "source": [
    "## RSA Analysis - static"
   ]
  },
  {
   "cell_type": "markdown",
   "metadata": {},
   "source": [
    "We will take the MEG data with presentation of the four pure tone frequencies (200, 431, 928 and 2000 Hz)."
   ]
  },
  {
   "cell_type": "code",
   "execution_count": 4,
   "metadata": {},
   "outputs": [
    {
     "name": "stdout",
     "output_type": "stream",
     "text": [
      "Adding metadata with 3 columns\n",
      "2845 matching events found\n",
      "No baseline correction applied\n"
     ]
    }
   ],
   "source": [
    "# This is identical to the last lecture\n",
    "info = mne.io.read_info(\"sample-info.fif\", verbose = True)\n",
    "info = mne.Info(info, sfreq=100)\n",
    "\n",
    "datapath = \"/Users/b1019548/Library/CloudStorage/OneDrive-UniversitätSalzburg/Teaching/Master_VO_MethodsCogNeuro/Lecture3_Decoding/data/dataset4nathan.mat\"\n",
    "epochs = mne.read_epochs_fieldtrip(datapath, info)\n",
    "\n",
    "epochs.event_id = {\n",
    "                    \"200Hz\": 16,\n",
    "                    \"431Hz\": 32,\n",
    "                    \"928Hz\": 64,\n",
    "                    \"2000Hz\": 128\n",
    "                }"
   ]
  },
  {
   "cell_type": "markdown",
   "metadata": {},
   "source": [
    "We have four frequencies, so in the end the RDMs will be a 4x4 matrix. The dissimilarity along the diagonal is 0 and the matrix is symmetric around the diagonal. So the dissimilarity needs to be only calculated once for each tone pair.\n",
    "\n",
    "We will use decoding to assess the dissimilarity: The better the decoding score, the more “dissimilar“ the patterns likely are.\n",
    "\n",
    "The following code builds an empty matrix to store the decoding results.\n",
    "\n",
    "Further, it creates an array (*ones_indices*) in which each row stores which conditions should be entered for pairwise decoding."
   ]
  },
  {
   "cell_type": "code",
   "execution_count": 122,
   "metadata": {},
   "outputs": [],
   "source": [
    "# make empty rdm mat and prepare all combos of decoding\n",
    "\n",
    "scoreMat = np.empty((4, 4))\n",
    "scoreMat[:] = np.nan\n",
    "\n",
    "# find combination of tone pairs in decoding \n",
    "vector = np.arange(0,4)\n",
    "combinations = np.array(list(itertools.product([0, 1], repeat=len(vector))))\n",
    "\n",
    "sums = np.sum(combinations, 1)\n",
    "ind2 = np.where(sums == 2)[0]\n",
    "combinations = combinations[ind2]\n",
    "\n",
    "ones_indices = []\n",
    "for row in combinations:\n",
    "    ones_indices.append(np.where(row == 1)[0])\n",
    "\n",
    "ones_indices = np.array(ones_indices)\n"
   ]
  },
  {
   "cell_type": "markdown",
   "metadata": {},
   "source": [
    "Now we will perform a decoding analysis using the code from last lecture, with 2 critical differences.\n",
    "1) We will perform pairwise decoding rather than entering all conditions at once. I.e. we will loop through *ones_indices* for that.\n",
    "2) We will enter all time points at once! For this we will reshape the MEG data such that the columns contain the 71 time points!"
   ]
  },
  {
   "cell_type": "code",
   "execution_count": 123,
   "metadata": {},
   "outputs": [
    {
     "data": {
      "application/vnd.jupyter.widget-view+json": {
       "model_id": "786996fbbc6a4e129955f482d255984c",
       "version_major": 2,
       "version_minor": 0
      },
      "text/plain": [
       "  0%|          | Fitting SlidingEstimator : 0/1 [00:00<?,       ?it/s]"
      ]
     },
     "metadata": {},
     "output_type": "display_data"
    },
    {
     "data": {
      "application/vnd.jupyter.widget-view+json": {
       "model_id": "e611b101c8044413bdd74f7c007ff038",
       "version_major": 2,
       "version_minor": 0
      },
      "text/plain": [
       "  0%|          | Fitting SlidingEstimator : 0/1 [00:00<?,       ?it/s]"
      ]
     },
     "metadata": {},
     "output_type": "display_data"
    },
    {
     "data": {
      "application/vnd.jupyter.widget-view+json": {
       "model_id": "b0ffe37c82cf41ee8e547371bdeabeed",
       "version_major": 2,
       "version_minor": 0
      },
      "text/plain": [
       "  0%|          | Fitting SlidingEstimator : 0/1 [00:00<?,       ?it/s]"
      ]
     },
     "metadata": {},
     "output_type": "display_data"
    },
    {
     "data": {
      "application/vnd.jupyter.widget-view+json": {
       "model_id": "7cd9d52e747e4c91b7bc7f6efa45be1c",
       "version_major": 2,
       "version_minor": 0
      },
      "text/plain": [
       "  0%|          | Fitting SlidingEstimator : 0/1 [00:00<?,       ?it/s]"
      ]
     },
     "metadata": {},
     "output_type": "display_data"
    },
    {
     "data": {
      "application/vnd.jupyter.widget-view+json": {
       "model_id": "f27ce40640f24bbaab624f72534b4cad",
       "version_major": 2,
       "version_minor": 0
      },
      "text/plain": [
       "  0%|          | Fitting SlidingEstimator : 0/1 [00:00<?,       ?it/s]"
      ]
     },
     "metadata": {},
     "output_type": "display_data"
    },
    {
     "data": {
      "application/vnd.jupyter.widget-view+json": {
       "model_id": "d685937070e4419ba67ae6412c8fdf4c",
       "version_major": 2,
       "version_minor": 0
      },
      "text/plain": [
       "  0%|          | Fitting SlidingEstimator : 0/1 [00:00<?,       ?it/s]"
      ]
     },
     "metadata": {},
     "output_type": "display_data"
    },
    {
     "data": {
      "application/vnd.jupyter.widget-view+json": {
       "model_id": "7edf2b3dd956476a9fc275a6fb4ccb21",
       "version_major": 2,
       "version_minor": 0
      },
      "text/plain": [
       "  0%|          | Fitting SlidingEstimator : 0/1 [00:00<?,       ?it/s]"
      ]
     },
     "metadata": {},
     "output_type": "display_data"
    },
    {
     "data": {
      "application/vnd.jupyter.widget-view+json": {
       "model_id": "7e067f4fd1684ffc8f7078a996332265",
       "version_major": 2,
       "version_minor": 0
      },
      "text/plain": [
       "  0%|          | Fitting SlidingEstimator : 0/1 [00:00<?,       ?it/s]"
      ]
     },
     "metadata": {},
     "output_type": "display_data"
    },
    {
     "data": {
      "application/vnd.jupyter.widget-view+json": {
       "model_id": "d92e1fe55305441fa987f5892e5337af",
       "version_major": 2,
       "version_minor": 0
      },
      "text/plain": [
       "  0%|          | Fitting SlidingEstimator : 0/1 [00:00<?,       ?it/s]"
      ]
     },
     "metadata": {},
     "output_type": "display_data"
    },
    {
     "data": {
      "application/vnd.jupyter.widget-view+json": {
       "model_id": "d27bf8fdae2242928af227e27983ceeb",
       "version_major": 2,
       "version_minor": 0
      },
      "text/plain": [
       "  0%|          | Fitting SlidingEstimator : 0/1 [00:00<?,       ?it/s]"
      ]
     },
     "metadata": {},
     "output_type": "display_data"
    },
    {
     "data": {
      "application/vnd.jupyter.widget-view+json": {
       "model_id": "c6c378388d0e467d8b8cd2c16a5e14f1",
       "version_major": 2,
       "version_minor": 0
      },
      "text/plain": [
       "  0%|          | Fitting SlidingEstimator : 0/1 [00:00<?,       ?it/s]"
      ]
     },
     "metadata": {},
     "output_type": "display_data"
    },
    {
     "data": {
      "application/vnd.jupyter.widget-view+json": {
       "model_id": "016b905d1d7a46808d8675be59a7a08c",
       "version_major": 2,
       "version_minor": 0
      },
      "text/plain": [
       "  0%|          | Fitting SlidingEstimator : 0/1 [00:00<?,       ?it/s]"
      ]
     },
     "metadata": {},
     "output_type": "display_data"
    },
    {
     "data": {
      "application/vnd.jupyter.widget-view+json": {
       "model_id": "52eb28787cbd48a4b107e92b2a7c1a69",
       "version_major": 2,
       "version_minor": 0
      },
      "text/plain": [
       "  0%|          | Fitting SlidingEstimator : 0/1 [00:00<?,       ?it/s]"
      ]
     },
     "metadata": {},
     "output_type": "display_data"
    },
    {
     "data": {
      "application/vnd.jupyter.widget-view+json": {
       "model_id": "3872cb6632d3407786de21ddfec3f204",
       "version_major": 2,
       "version_minor": 0
      },
      "text/plain": [
       "  0%|          | Fitting SlidingEstimator : 0/1 [00:00<?,       ?it/s]"
      ]
     },
     "metadata": {},
     "output_type": "display_data"
    },
    {
     "data": {
      "application/vnd.jupyter.widget-view+json": {
       "model_id": "39012e61ab0647228d2736c5558325ab",
       "version_major": 2,
       "version_minor": 0
      },
      "text/plain": [
       "  0%|          | Fitting SlidingEstimator : 0/1 [00:00<?,       ?it/s]"
      ]
     },
     "metadata": {},
     "output_type": "display_data"
    },
    {
     "data": {
      "application/vnd.jupyter.widget-view+json": {
       "model_id": "7748d44addd7409a99bf6c6bdcfbdbd5",
       "version_major": 2,
       "version_minor": 0
      },
      "text/plain": [
       "  0%|          | Fitting SlidingEstimator : 0/1 [00:00<?,       ?it/s]"
      ]
     },
     "metadata": {},
     "output_type": "display_data"
    },
    {
     "data": {
      "application/vnd.jupyter.widget-view+json": {
       "model_id": "7d0ffe5e996a419780d6fed601d86eb2",
       "version_major": 2,
       "version_minor": 0
      },
      "text/plain": [
       "  0%|          | Fitting SlidingEstimator : 0/1 [00:00<?,       ?it/s]"
      ]
     },
     "metadata": {},
     "output_type": "display_data"
    },
    {
     "data": {
      "application/vnd.jupyter.widget-view+json": {
       "model_id": "90af4316aeaf420faedd580074f05c7d",
       "version_major": 2,
       "version_minor": 0
      },
      "text/plain": [
       "  0%|          | Fitting SlidingEstimator : 0/1 [00:00<?,       ?it/s]"
      ]
     },
     "metadata": {},
     "output_type": "display_data"
    },
    {
     "data": {
      "application/vnd.jupyter.widget-view+json": {
       "model_id": "c9b5c1e8f0fd43d18500ff09831a51db",
       "version_major": 2,
       "version_minor": 0
      },
      "text/plain": [
       "  0%|          | Fitting SlidingEstimator : 0/1 [00:00<?,       ?it/s]"
      ]
     },
     "metadata": {},
     "output_type": "display_data"
    },
    {
     "data": {
      "application/vnd.jupyter.widget-view+json": {
       "model_id": "59a708f6577a47e2a7d025659c14d55e",
       "version_major": 2,
       "version_minor": 0
      },
      "text/plain": [
       "  0%|          | Fitting SlidingEstimator : 0/1 [00:00<?,       ?it/s]"
      ]
     },
     "metadata": {},
     "output_type": "display_data"
    },
    {
     "data": {
      "application/vnd.jupyter.widget-view+json": {
       "model_id": "db9dbaf6743645038223011e73288810",
       "version_major": 2,
       "version_minor": 0
      },
      "text/plain": [
       "  0%|          | Fitting SlidingEstimator : 0/1 [00:00<?,       ?it/s]"
      ]
     },
     "metadata": {},
     "output_type": "display_data"
    },
    {
     "data": {
      "application/vnd.jupyter.widget-view+json": {
       "model_id": "cf3927cc970a47b9aa042812c13937d0",
       "version_major": 2,
       "version_minor": 0
      },
      "text/plain": [
       "  0%|          | Fitting SlidingEstimator : 0/1 [00:00<?,       ?it/s]"
      ]
     },
     "metadata": {},
     "output_type": "display_data"
    },
    {
     "data": {
      "application/vnd.jupyter.widget-view+json": {
       "model_id": "029c7d81fc664455961e03dd648df636",
       "version_major": 2,
       "version_minor": 0
      },
      "text/plain": [
       "  0%|          | Fitting SlidingEstimator : 0/1 [00:00<?,       ?it/s]"
      ]
     },
     "metadata": {},
     "output_type": "display_data"
    },
    {
     "data": {
      "application/vnd.jupyter.widget-view+json": {
       "model_id": "9a8d8dbf0e104beb9a5f805e2db48267",
       "version_major": 2,
       "version_minor": 0
      },
      "text/plain": [
       "  0%|          | Fitting SlidingEstimator : 0/1 [00:00<?,       ?it/s]"
      ]
     },
     "metadata": {},
     "output_type": "display_data"
    }
   ],
   "source": [
    "clf = make_pipeline(StandardScaler(), LinearDiscriminantAnalysis())\n",
    "time_decod = SlidingEstimator(clf, n_jobs=None, scoring=\"balanced_accuracy\", verbose=True)\n",
    "\n",
    "for ii in range(len(ones_indices)):\n",
    "    str0 = list(epochs.event_id)[ones_indices[ii,0]]\n",
    "    str1 = list(epochs.event_id)[ones_indices[ii,1]]\n",
    "    \n",
    "    alldata = epochs[str0].get_data()\n",
    "    alldata = np.concatenate((alldata, epochs[str1].get_data()), axis=0)\n",
    "    \n",
    "    labelvec = np.append(np.zeros(epochs[str0].get_data().shape[0]),\n",
    "                            np.ones(epochs[str1].get_data().shape[0]))\n",
    "    \n",
    "    alldata = alldata.reshape(alldata.shape[0], alldata.shape[1]*alldata.shape[2],1) #maintain 3D array to “trick“ SlidingEstimator\n",
    "    \n",
    "    scores = cross_val_multiscore(time_decod, alldata, labelvec, cv=4, n_jobs=None)\n",
    "    \n",
    "    scoreMat[ones_indices[ii,1], ones_indices[ii,0]] = np.mean(scores)\n",
    "    "
   ]
  },
  {
   "cell_type": "markdown",
   "metadata": {},
   "source": [
    "We can now plot the dissimilarity matrix based on the MEG data!"
   ]
  },
  {
   "cell_type": "code",
   "execution_count": 124,
   "metadata": {},
   "outputs": [
    {
     "data": {
      "image/png": "[encoded data removed]",
      "text/plain": [
       "<Figure size 640x480 with 2 Axes>"
      ]
     },
     "metadata": {},
     "output_type": "display_data"
    }
   ],
   "source": [
    "ax = sns.heatmap(scoreMat, cmap='coolwarm', annot=True, vmin = .35, vmax = .65)\n",
    "ax.invert_yaxis()\n",
    "ax.invert_xaxis()\n",
    "\n",
    "plt.show()\n"
   ]
  },
  {
   "cell_type": "markdown",
   "metadata": {},
   "source": [
    "Now let's make 2 “conceptual“ models to check which one is better represented by our neural data:\n",
    "- the first model assumes that only the lowest two tones are differentiateted (mod0). This is “nonsensical“ for healthy, normal hearing individuals.\n",
    "- the second model assumes sounds the differenation will be stronger the further the carrier frequencyies are apart (mod1)"
   ]
  },
  {
   "cell_type": "code",
   "execution_count": 125,
   "metadata": {},
   "outputs": [
    {
     "data": {
      "image/png": "[encoded data removed]",
      "text/plain": [
       "<Figure size 640x480 with 4 Axes>"
      ]
     },
     "metadata": {},
     "output_type": "display_data"
    }
   ],
   "source": [
    "mod0 = np.tril(np.zeros((4,4)), -1)\n",
    "mod0[np.triu_indices(4)] = np.nan\n",
    "mod0[1,0] = 1 \n",
    "\n",
    "cfvec = np.log10(np.array([200, 431, 928, 2000]))\n",
    "\n",
    "mod1 = np.subtract.outer(cfvec, cfvec)\n",
    "mod1 = np.abs(diffs)\n",
    "\n",
    "mod1[np.triu_indices(4)] = np.nan\n",
    "\n",
    "\n",
    "# Now plot\n",
    "\n",
    "f, axes = plt.subplots(1, 2)\n",
    "sns.heatmap(mod0, cmap='coolwarm', annot=True, vmin = 0, vmax = 1, ax = axes[0]).set(title = \"Model 0\")\n",
    "axes[0].invert_yaxis()\n",
    "axes[0].invert_xaxis()\n",
    "\n",
    "sns.heatmap(mod1, cmap='coolwarm', annot=True, vmin = 0, vmax = 1, ax = axes[1]).set(title = \"Model 1\")\n",
    "axes[1].invert_yaxis()\n",
    "axes[1].invert_xaxis()\n",
    "plt.show()\n",
    "\n"
   ]
  },
  {
   "cell_type": "markdown",
   "metadata": {},
   "source": [
    "To quantify which conceptual model is closer to our MEG data, let's perform a Spearman Rank Correlation."
   ]
  },
  {
   "cell_type": "code",
   "execution_count": 126,
   "metadata": {},
   "outputs": [
    {
     "name": "stdout",
     "output_type": "stream",
     "text": [
      "Spearman correlation between mod0 and scoreMat: -0.13093073414159545\n",
      "Spearman correlation between mod1 and scoreMat: 0.8857142857142858\n"
     ]
    }
   ],
   "source": [
    "# get non-NaN values from mod0 and scoreMat\n",
    "mod0_nonan = mod0[~np.isnan(scoreMat)]\n",
    "mod1_nonan = mod1[~np.isnan(scoreMat)]\n",
    "\n",
    "scoreMat_nonan = scoreMat[~np.isnan(scoreMat)] \n",
    "\n",
    "#we need to add a little variance to mod0 to make correlation calculation work\n",
    "#mod0_nonan = mod0_nonan + np.random.uniform(low=-0.000000000000001, high=0.000000000000001, size=len(mod0_nonan)) \n",
    "\n",
    "# calculate spearman correlation\n",
    "corr_mod0, pval = spearmanr(mod0_nonan, scoreMat_nonan)\n",
    "corr_mod1, pval = spearmanr(mod1_nonan, scoreMat_nonan)\n",
    "\n",
    "\n",
    "print(\"Spearman correlation between mod0 and scoreMat:\", corr_mod0)\n",
    "print(\"Spearman correlation between mod1 and scoreMat:\", corr_mod1)\n"
   ]
  },
  {
   "cell_type": "markdown",
   "metadata": {},
   "source": [
    "## RSA temporally resolved"
   ]
  },
  {
   "cell_type": "markdown",
   "metadata": {},
   "source": [
    "The similarity value above is static, but we have also got time information. So what we need is to have the neural RDM calculated per sampling point and then calcute the correlations fpr each time point."
   ]
  },
  {
   "cell_type": "code",
   "execution_count": 127,
   "metadata": {},
   "outputs": [
    {
     "data": {
      "application/vnd.jupyter.widget-view+json": {
       "model_id": "8ff863b3862b4d54916e98a131557251",
       "version_major": 2,
       "version_minor": 0
      },
      "text/plain": [
       "  0%|          | Fitting SlidingEstimator : 0/71 [00:00<?,       ?it/s]"
      ]
     },
     "metadata": {},
     "output_type": "display_data"
    },
    {
     "data": {
      "application/vnd.jupyter.widget-view+json": {
       "model_id": "7e7dd0c626e842bc9068c89effa05dfd",
       "version_major": 2,
       "version_minor": 0
      },
      "text/plain": [
       "  0%|          | Fitting SlidingEstimator : 0/71 [00:00<?,       ?it/s]"
      ]
     },
     "metadata": {},
     "output_type": "display_data"
    },
    {
     "data": {
      "application/vnd.jupyter.widget-view+json": {
       "model_id": "60fa6cae3ba44e05960abb5ede01af98",
       "version_major": 2,
       "version_minor": 0
      },
      "text/plain": [
       "  0%|          | Fitting SlidingEstimator : 0/71 [00:00<?,       ?it/s]"
      ]
     },
     "metadata": {},
     "output_type": "display_data"
    },
    {
     "data": {
      "application/vnd.jupyter.widget-view+json": {
       "model_id": "07a5b8899d2f4e2d899bed62d646fde5",
       "version_major": 2,
       "version_minor": 0
      },
      "text/plain": [
       "  0%|          | Fitting SlidingEstimator : 0/71 [00:00<?,       ?it/s]"
      ]
     },
     "metadata": {},
     "output_type": "display_data"
    },
    {
     "data": {
      "application/vnd.jupyter.widget-view+json": {
       "model_id": "56e0722c0f90498d95fab3bf8b7ada8d",
       "version_major": 2,
       "version_minor": 0
      },
      "text/plain": [
       "  0%|          | Fitting SlidingEstimator : 0/71 [00:00<?,       ?it/s]"
      ]
     },
     "metadata": {},
     "output_type": "display_data"
    },
    {
     "data": {
      "application/vnd.jupyter.widget-view+json": {
       "model_id": "25415b1278c948c18de592ed3e2f96c0",
       "version_major": 2,
       "version_minor": 0
      },
      "text/plain": [
       "  0%|          | Fitting SlidingEstimator : 0/71 [00:00<?,       ?it/s]"
      ]
     },
     "metadata": {},
     "output_type": "display_data"
    },
    {
     "data": {
      "application/vnd.jupyter.widget-view+json": {
       "model_id": "61da7c865dcb4bcb9027ffeeb8731ef2",
       "version_major": 2,
       "version_minor": 0
      },
      "text/plain": [
       "  0%|          | Fitting SlidingEstimator : 0/71 [00:00<?,       ?it/s]"
      ]
     },
     "metadata": {},
     "output_type": "display_data"
    },
    {
     "data": {
      "application/vnd.jupyter.widget-view+json": {
       "model_id": "d14d271c942b41b1a9c0fb4c17793b36",
       "version_major": 2,
       "version_minor": 0
      },
      "text/plain": [
       "  0%|          | Fitting SlidingEstimator : 0/71 [00:00<?,       ?it/s]"
      ]
     },
     "metadata": {},
     "output_type": "display_data"
    },
    {
     "data": {
      "application/vnd.jupyter.widget-view+json": {
       "model_id": "5b91b9286bbc48f2983ef1ac448b86bd",
       "version_major": 2,
       "version_minor": 0
      },
      "text/plain": [
       "  0%|          | Fitting SlidingEstimator : 0/71 [00:00<?,       ?it/s]"
      ]
     },
     "metadata": {},
     "output_type": "display_data"
    },
    {
     "data": {
      "application/vnd.jupyter.widget-view+json": {
       "model_id": "aada2ecb30ba48338f254fc1dda4215b",
       "version_major": 2,
       "version_minor": 0
      },
      "text/plain": [
       "  0%|          | Fitting SlidingEstimator : 0/71 [00:00<?,       ?it/s]"
      ]
     },
     "metadata": {},
     "output_type": "display_data"
    },
    {
     "data": {
      "application/vnd.jupyter.widget-view+json": {
       "model_id": "75ae23cb8d6b43d79181c28f5d4db4bd",
       "version_major": 2,
       "version_minor": 0
      },
      "text/plain": [
       "  0%|          | Fitting SlidingEstimator : 0/71 [00:00<?,       ?it/s]"
      ]
     },
     "metadata": {},
     "output_type": "display_data"
    },
    {
     "data": {
      "application/vnd.jupyter.widget-view+json": {
       "model_id": "f48293a6ba914a65aeb74657f30ec64c",
       "version_major": 2,
       "version_minor": 0
      },
      "text/plain": [
       "  0%|          | Fitting SlidingEstimator : 0/71 [00:00<?,       ?it/s]"
      ]
     },
     "metadata": {},
     "output_type": "display_data"
    },
    {
     "data": {
      "application/vnd.jupyter.widget-view+json": {
       "model_id": "a9c8733dfc5643af9139d2e2de397964",
       "version_major": 2,
       "version_minor": 0
      },
      "text/plain": [
       "  0%|          | Fitting SlidingEstimator : 0/71 [00:00<?,       ?it/s]"
      ]
     },
     "metadata": {},
     "output_type": "display_data"
    },
    {
     "data": {
      "application/vnd.jupyter.widget-view+json": {
       "model_id": "6d69135d1b884d7aad438c70096fc7f1",
       "version_major": 2,
       "version_minor": 0
      },
      "text/plain": [
       "  0%|          | Fitting SlidingEstimator : 0/71 [00:00<?,       ?it/s]"
      ]
     },
     "metadata": {},
     "output_type": "display_data"
    },
    {
     "data": {
      "application/vnd.jupyter.widget-view+json": {
       "model_id": "27bf486dc7084b9994c7cce9674ae755",
       "version_major": 2,
       "version_minor": 0
      },
      "text/plain": [
       "  0%|          | Fitting SlidingEstimator : 0/71 [00:00<?,       ?it/s]"
      ]
     },
     "metadata": {},
     "output_type": "display_data"
    },
    {
     "data": {
      "application/vnd.jupyter.widget-view+json": {
       "model_id": "1e9300191614419fb1c61cb16b861ef4",
       "version_major": 2,
       "version_minor": 0
      },
      "text/plain": [
       "  0%|          | Fitting SlidingEstimator : 0/71 [00:00<?,       ?it/s]"
      ]
     },
     "metadata": {},
     "output_type": "display_data"
    },
    {
     "data": {
      "application/vnd.jupyter.widget-view+json": {
       "model_id": "6fa3d6ab3a7842da84b466773b90fb7e",
       "version_major": 2,
       "version_minor": 0
      },
      "text/plain": [
       "  0%|          | Fitting SlidingEstimator : 0/71 [00:00<?,       ?it/s]"
      ]
     },
     "metadata": {},
     "output_type": "display_data"
    },
    {
     "data": {
      "application/vnd.jupyter.widget-view+json": {
       "model_id": "a8c2727a30ef41e28a962543c828edc7",
       "version_major": 2,
       "version_minor": 0
      },
      "text/plain": [
       "  0%|          | Fitting SlidingEstimator : 0/71 [00:00<?,       ?it/s]"
      ]
     },
     "metadata": {},
     "output_type": "display_data"
    },
    {
     "data": {
      "application/vnd.jupyter.widget-view+json": {
       "model_id": "0332181ebc904a6ab2e24c2ae48ba654",
       "version_major": 2,
       "version_minor": 0
      },
      "text/plain": [
       "  0%|          | Fitting SlidingEstimator : 0/71 [00:00<?,       ?it/s]"
      ]
     },
     "metadata": {},
     "output_type": "display_data"
    },
    {
     "data": {
      "application/vnd.jupyter.widget-view+json": {
       "model_id": "dcaefcd3c86949eeb8a993772c51fdbe",
       "version_major": 2,
       "version_minor": 0
      },
      "text/plain": [
       "  0%|          | Fitting SlidingEstimator : 0/71 [00:00<?,       ?it/s]"
      ]
     },
     "metadata": {},
     "output_type": "display_data"
    },
    {
     "data": {
      "application/vnd.jupyter.widget-view+json": {
       "model_id": "4310b1a969674856b1546c23865e4cc9",
       "version_major": 2,
       "version_minor": 0
      },
      "text/plain": [
       "  0%|          | Fitting SlidingEstimator : 0/71 [00:00<?,       ?it/s]"
      ]
     },
     "metadata": {},
     "output_type": "display_data"
    },
    {
     "data": {
      "application/vnd.jupyter.widget-view+json": {
       "model_id": "8e6f3f6ee95c4e03b0f9f8f9b2060ef3",
       "version_major": 2,
       "version_minor": 0
      },
      "text/plain": [
       "  0%|          | Fitting SlidingEstimator : 0/71 [00:00<?,       ?it/s]"
      ]
     },
     "metadata": {},
     "output_type": "display_data"
    },
    {
     "data": {
      "application/vnd.jupyter.widget-view+json": {
       "model_id": "1249b5057a4c493db4356a8ba75d0df3",
       "version_major": 2,
       "version_minor": 0
      },
      "text/plain": [
       "  0%|          | Fitting SlidingEstimator : 0/71 [00:00<?,       ?it/s]"
      ]
     },
     "metadata": {},
     "output_type": "display_data"
    },
    {
     "data": {
      "application/vnd.jupyter.widget-view+json": {
       "model_id": "7adba43cb3b14bcea3d9d8e273f84096",
       "version_major": 2,
       "version_minor": 0
      },
      "text/plain": [
       "  0%|          | Fitting SlidingEstimator : 0/71 [00:00<?,       ?it/s]"
      ]
     },
     "metadata": {},
     "output_type": "display_data"
    }
   ],
   "source": [
    "#empty mat\n",
    "scoreMat = np.empty((4, 4, epochs[str0].get_data().shape[2]))\n",
    "scoreMat[:] = np.nan\n",
    "\n",
    "clf = make_pipeline(StandardScaler(), LinearDiscriminantAnalysis())\n",
    "time_decod = SlidingEstimator(clf, n_jobs=None, scoring=\"balanced_accuracy\", verbose=True)\n",
    "\n",
    "\n",
    "for ii in range(len(ones_indices)):\n",
    "    str0 = list(epochs.event_id)[ones_indices[ii,0]]\n",
    "    str1 = list(epochs.event_id)[ones_indices[ii,1]]\n",
    "    #print(str0, str1)\n",
    "    alldata = epochs[str0].get_data()\n",
    "    alldata = np.concatenate((alldata, epochs[str1].get_data()), axis=0)\n",
    "        \n",
    "    labelvec = np.append(np.zeros(epochs[str0].get_data().shape[0]),\n",
    "                                np.ones(epochs[str1].get_data().shape[0]))\n",
    "            \n",
    "    scores = cross_val_multiscore(time_decod, alldata, labelvec, cv=4, n_jobs=None)\n",
    "        \n",
    "    scoreMat[ones_indices[ii,1], ones_indices[ii,0], ] = np.mean(scores, axis=0)"
   ]
  },
  {
   "cell_type": "code",
   "execution_count": 128,
   "metadata": {},
   "outputs": [
    {
     "data": {
      "image/png": "[encoded data removed]",
      "text/plain": [
       "<Figure size 640x480 with 2 Axes>"
      ]
     },
     "metadata": {},
     "output_type": "display_data"
    }
   ],
   "source": [
    "# some random RDM\n",
    "ax = sns.heatmap(scoreMat[:,:,40], cmap='coolwarm', annot=True, vmin = .35, vmax = .65)\n",
    "ax.invert_yaxis()\n",
    "ax.invert_xaxis()\n",
    "\n",
    "plt.show()"
   ]
  },
  {
   "cell_type": "code",
   "execution_count": 129,
   "metadata": {},
   "outputs": [],
   "source": [
    "corrmod1_vec = []\n",
    "corrmod0_vec = []\n",
    "for i in range(scoreMat.shape[2]):\n",
    "    scoreMat_nonan = scoreMat[:,:,i][~np.isnan(scoreMat[:,:,i])]\n",
    "    mod1_nonan = mod1[~np.isnan(scoreMat[:,:,i])]\n",
    "    corr, pval = spearmanr(mod1_nonan, scoreMat_nonan)\n",
    "    corrmod1_vec.append(corr)\n",
    "    \n",
    "    mod0_nonan = mod0[~np.isnan(scoreMat[:,:,i])]\n",
    "    corr, pval = spearmanr(mod0_nonan, scoreMat_nonan)\n",
    "    corrmod0_vec.append(corr)\n",
    "    "
   ]
  },
  {
   "cell_type": "code",
   "execution_count": 135,
   "metadata": {},
   "outputs": [
    {
     "data": {
      "text/plain": [
       "<matplotlib.lines.Line2D at 0x16d411090>"
      ]
     },
     "execution_count": 135,
     "metadata": {},
     "output_type": "execute_result"
    },
    {
     "data": {
      "image/png": "[encoded data removed]",
      "text/plain": [
       "<Figure size 640x480 with 1 Axes>"
      ]
     },
     "metadata": {},
     "output_type": "display_data"
    }
   ],
   "source": [
    "plt.plot(epochs.times, corrmod0_vec, label = 'Model 0')\n",
    "plt.plot(epochs.times, corrmod1_vec, color = 'red', label = 'Model 1')\n",
    "plt.ylim(-1, 1)\n",
    "plt.xlim(-.1, .33)\n",
    "plt.legend(fontsize=12)\n",
    "plt.axhline(y=0, color='black', linestyle='--')\n"
   ]
  },
  {
   "cell_type": "markdown",
   "metadata": {},
   "source": [
    "## Another example - from Andreas Wutz & Fabian Schmidt"
   ]
  },
  {
   "cell_type": "markdown",
   "metadata": {},
   "source": [
    "This study builds on a work by our group ([Sanchez et al., 2020](https://www.pnas.org/doi/abs/10.1073/pnas.1912584117)) in which we implemented 3 near threshold experiments in the auditory, visual and somatosensory modality respectively, and used MEG to assess whether neural patterns indicating conscious perception can be generalized across sensory modalities.\n",
    "![Design Sanchez](https://www.pnas.org/cms/10.1073/pnas.1912584117/asset/326a4978-40cc-4c03-9bdd-dff55b0b8399/assets/graphic/pnas.1912584117fig01.jpeg)\n",
    "\n",
    "The using time- and condition-generalized decoding Sanchez et al. could show that ~>200ms a wide network of brain regions contain information on whether a stimulus is consciously perceived no matter which senors modality.\n",
    "![Main Finding Sanchez](https://www.pnas.org/cms/10.1073/pnas.1912584117/asset/32a1719b-016a-4691-8ce0-22ff0e27522d/assets/graphic/pnas.1912584117fig05.jpeg)\n",
    "\n",
    "In a current project a very similar experiment is implemented and will be used in MEG and fMRI. The goal is to merge both sources of data using RSA."
   ]
  },
  {
   "cell_type": "markdown",
   "metadata": {},
   "source": [
    "Here we use the RDMs provised by Fabian Schmidt and Andreas Wutz of their preliminary data."
   ]
  },
  {
   "cell_type": "code",
   "execution_count": 168,
   "metadata": {},
   "outputs": [
    {
     "data": {
      "text/plain": [
       "(606, 276)"
      ]
     },
     "execution_count": 168,
     "metadata": {},
     "output_type": "execute_result"
    }
   ],
   "source": [
    "supramoddata = np.load(\"/Users/b1019548/Library/CloudStorage/OneDrive-UniversitätSalzburg/Teaching/Master_VO_MethodsCogNeuro/Lecture4_RSA/data/rsa4nathan.npy\")\n",
    "supramoddata.shape"
   ]
  },
  {
   "cell_type": "markdown",
   "metadata": {},
   "source": [
    "The data contains the RDMs 6 participants at 101 time points (100 Hz sampling starting at 0s). These are contained in the row of *supramoddata*. The colums are the actual RDM data (24 x 24 matrix), that have been flattened and in which the diagonal is 0. The original RDM is a 24 x 24 matrix, with 3 modalities (auditory, visual, somatosensory), 2 perceptual states (hits / miss), and 4 stimulus levels.\n",
    "\n",
    "We will first, for the sake of ease average over all participants."
   ]
  },
  {
   "cell_type": "code",
   "execution_count": 176,
   "metadata": {},
   "outputs": [
    {
     "name": "stdout",
     "output_type": "stream",
     "text": [
      "(101, 276)\n"
     ]
    }
   ],
   "source": [
    "# split data so that subjects are in rows\n",
    "supramoddata_split = supramoddata.reshape(-1, 101, supramoddata.shape[1])\n",
    "\n",
    "# calculate the average across all subjects\n",
    "supramoddata_avg = np.mean(supramoddata_split, axis=0)\n"
   ]
  },
  {
   "cell_type": "markdown",
   "metadata": {},
   "source": [
    "Let's have a function that plots the RDMs averaged over a selected time-slice."
   ]
  },
  {
   "cell_type": "code",
   "execution_count": 197,
   "metadata": {},
   "outputs": [],
   "source": [
    "def plot_fabi_RDM(supramoddata = supramoddata, starttime = 0, endtime = 1000):\n",
    "\n",
    "    startsamp = int(np.round(starttime/10))\n",
    "    endsamp =int(np.round(endtime/10))\n",
    "    \n",
    "    test = np.mean(supramoddata[startsamp:endsamp,:], axis = 0)\n",
    "\n",
    "    # get shape of original matrix\n",
    "    n = int(np.sqrt(2 * len(test))) + 1\n",
    "\n",
    "    # get indices of upper triangular part\n",
    "    tri_indices = np.triu_indices(n, k=1)\n",
    "\n",
    "    # create 2D array of zeros\n",
    "    matrix = np.zeros((n, n))\n",
    "\n",
    "    # assign flattened array to upper triangular part\n",
    "    matrix[tri_indices] = test\n",
    "\n",
    "    # copy upper triangular part to lower triangular part\n",
    "    matrix = matrix + matrix.T\n",
    "\n",
    "    zlim = np.max(np.abs(matrix)) * .9\n",
    "    ax = sns.heatmap(matrix, cmap='coolwarm', vmin = -zlim, vmax = zlim)\n",
    "    ax.invert_yaxis()\n",
    "    ax.invert_xaxis()\n",
    "\n",
    "    plt.show()\n"
   ]
  },
  {
   "cell_type": "markdown",
   "metadata": {},
   "source": [
    "Try a few time slices!"
   ]
  },
  {
   "cell_type": "code",
   "execution_count": 198,
   "metadata": {},
   "outputs": [
    {
     "data": {
      "image/png": "[encoded data removed]",
      "text/plain": [
       "<Figure size 640x480 with 2 Axes>"
      ]
     },
     "metadata": {},
     "output_type": "display_data"
    }
   ],
   "source": [
    "plot_fabi_RDM(starttime = 200, endtime = 300)"
   ]
  },
  {
   "cell_type": "markdown",
   "metadata": {},
   "source": [
    "We will now create two conceptual models. One in which low-level processing within a modality is emphasized. Another in which conscious perception is emphasized."
   ]
  },
  {
   "cell_type": "code",
   "execution_count": 287,
   "metadata": {},
   "outputs": [],
   "source": [
    "#Modalities Auditory, Somatosensory, Visual\n",
    "modality_vec = np.concatenate([np.zeros((1,8)), np.ones((1,8)), np.ones((1,8))*2])\n",
    "modality_vec = modality_vec.flatten()\n",
    "\n",
    "#Stimulus number ... 4 per modality sorted accourding to dissimilarity\n",
    "stim_vec = np.tile(np.array(np.array(np.arange(1,5))).flatten(), 6)\n",
    "#stim_vec = stim_vec.flatten()\n",
    "\n",
    "#Behaviour: Hits and miss\n",
    "perc_vec = np.tile(np.concatenate([np.zeros((1,4)), np.ones((1,4))]).flatten(), 3)\n",
    "\n",
    "data = {'Modality': modality_vec,\n",
    "        'Perceived': perc_vec,\n",
    "        'Stimulus': stim_vec}\n",
    "\n",
    "concept_df = pd.DataFrame(data)\n"
   ]
  },
  {
   "cell_type": "code",
   "execution_count": 365,
   "metadata": {},
   "outputs": [],
   "source": [
    "ConsciousMat = np.zeros((len(concept_df), len(concept_df)))\n",
    "SensoryMat = np.zeros((len(concept_df), len(concept_df)))\n",
    "\n",
    "for ii in range(0,len(concept_df)):\n",
    "    for kk in range(0,len(concept_df)):\n",
    "        \n",
    "        #make the supramodal model\n",
    "        if concept_df[\"Perceived\"].iloc[ii] == concept_df[\"Perceived\"].iloc[kk]:\n",
    "            ConsciousMat[ii, kk] = 0\n",
    "        else:\n",
    "            ConsciousMat[ii, kk] = 1\n",
    "        \n",
    "        #make the sensory model    \n",
    "        if concept_df[\"Modality\"].iloc[ii] == concept_df[\"Modality\"].iloc[kk]:\n",
    "            SensoryMat[ii, kk] = np.abs(concept_df[\"Stimulus\"].iloc[ii] - concept_df[\"Stimulus\"].iloc[kk]) / 4\n",
    "        else:\n",
    "            SensoryMat[ii, kk] = 1\n",
    "        \n",
    "SensoryMat = SensoryMat\n"
   ]
  },
  {
   "cell_type": "markdown",
   "metadata": {},
   "source": [
    "We can now plot these models!"
   ]
  },
  {
   "cell_type": "code",
   "execution_count": 366,
   "metadata": {},
   "outputs": [
    {
     "data": {
      "image/png": "[encoded data removed]",
      "text/plain": [
       "<Figure size 640x480 with 4 Axes>"
      ]
     },
     "metadata": {},
     "output_type": "display_data"
    }
   ],
   "source": [
    "f, axes = plt.subplots(1, 2)\n",
    "sns.heatmap(SensoryMat, cmap='coolwarm', vmin = 0, vmax = 1, ax = axes[0]).set(title = \"Sensory Model\")\n",
    "axes[0].invert_yaxis()\n",
    "axes[0].invert_xaxis()\n",
    "\n",
    "sns.heatmap(ConsciousMat, cmap='coolwarm', vmin = 0, vmax = 1, ax = axes[1]).set(title = \"Consciousness Model\")\n",
    "axes[1].invert_yaxis()\n",
    "axes[1].invert_xaxis()\n",
    "plt.show()"
   ]
  },
  {
   "cell_type": "code",
   "execution_count": 367,
   "metadata": {},
   "outputs": [],
   "source": [
    "def get_corrs_fabi(supramoddata = supramoddata_avg, modelMat = SensoryMat):\n",
    "    \n",
    "    corr_vec = []\n",
    "    tri_inds = np.triu_indices(modelMat.shape[0], k=1)\n",
    "    \n",
    "    for ii in range(0, supramoddata.shape[0]):\n",
    "        corr, pval = spearmanr(supramoddata[ii,:], modelMat[tri_inds])\n",
    "        corr_vec.append(corr)\n",
    "    \n",
    "    return corr_vec"
   ]
  },
  {
   "cell_type": "code",
   "execution_count": 368,
   "metadata": {},
   "outputs": [],
   "source": [
    "sensory_RSA = get_corrs_fabi(modelMat = SensoryMat)\n",
    "conscious_RSA = get_corrs_fabi(modelMat = ConsciousMat)"
   ]
  },
  {
   "cell_type": "code",
   "execution_count": 370,
   "metadata": {},
   "outputs": [
    {
     "data": {
      "text/plain": [
       "<matplotlib.lines.Line2D at 0x1711a1490>"
      ]
     },
     "execution_count": 370,
     "metadata": {},
     "output_type": "execute_result"
    },
    {
     "data": {
      "image/png": "[encoded data removed]",
      "text/plain": [
       "<Figure size 640x480 with 1 Axes>"
      ]
     },
     "metadata": {},
     "output_type": "display_data"
    }
   ],
   "source": [
    "plt.plot(np.arange(0,len(sensory_RSA)) / 100, sensory_RSA, label = 'Sensory Model')\n",
    "plt.plot(np.arange(0,len(conscious_RSA)) / 100, conscious_RSA , color = 'red', label = 'Consciousness Model')\n",
    "plt.ylim(-1, 1)\n",
    "#plt.xlim(-.1, .33)\n",
    "plt.legend(fontsize=12)\n",
    "plt.axhline(y=0, color='black', linestyle='--')"
   ]
  }
 ],
 "metadata": {
  "kernelspec": {
   "display_name": "Python 3",
   "language": "python",
   "name": "python3"
  },
  "language_info": {
   "codemirror_mode": {
    "name": "ipython",
    "version": 3
   },
   "file_extension": ".py",
   "mimetype": "text/x-python",
   "name": "python",
   "nbconvert_exporter": "python",
   "pygments_lexer": "ipython3",
   "version": "3.11.6"
  }
 },
 "nbformat": 4,
 "nbformat_minor": 2
}
