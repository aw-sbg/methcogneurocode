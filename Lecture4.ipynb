{
 "cells": [
  {
   "cell_type": "markdown",
   "metadata": {},
   "source": [
    "# Representational Similarity Analysis"
   ]
  },
  {
   "cell_type": "markdown",
   "metadata": {},
   "source": [
    "# BLABLA"
   ]
  },
  {
   "cell_type": "code",
   "execution_count": 9,
   "metadata": {},
   "outputs": [],
   "source": [
    "\n",
    "from mne.decoding import SlidingEstimator, cross_val_multiscore\n",
    "from sklearn.preprocessing import StandardScaler\n",
    "from sklearn.discriminant_analysis import LinearDiscriminantAnalysis\n",
    "from sklearn.pipeline import make_pipeline\n",
    "\n",
    "import seaborn as sns #a nice library for (“publication-ready“) visualization\n",
    "import pandas as pd #a nice library for handling data frames\n",
    "import numpy as np\n",
    "import mne\n",
    "\n",
    "from scipy.stats import spearmanr\n",
    "\n",
    "import itertools\n",
    "import matplotlib.pyplot as plt"
   ]
  },
  {
   "cell_type": "code",
   "execution_count": 4,
   "metadata": {},
   "outputs": [
    {
     "name": "stdout",
     "output_type": "stream",
     "text": [
      "Adding metadata with 3 columns\n",
      "2845 matching events found\n",
      "No baseline correction applied\n"
     ]
    }
   ],
   "source": [
    "info = mne.io.read_info(\"sample-info.fif\", verbose = True)\n",
    "info = mne.Info(info, sfreq=100)\n",
    "\n",
    "datapath = \"/Users/b1019548/Library/CloudStorage/OneDrive-UniversitätSalzburg/Teaching/Master_VO_MethodsCogNeuro/Lecture3_Decoding/data/dataset4nathan.mat\"\n",
    "epochs = mne.read_epochs_fieldtrip(datapath, info)"
   ]
  },
  {
   "cell_type": "code",
   "execution_count": 5,
   "metadata": {},
   "outputs": [],
   "source": [
    "epochs.event_id = {\n",
    "                    \"200Hz\": 16,\n",
    "                    \"431Hz\": 32,\n",
    "                    \"928Hz\": 64,\n",
    "                    \"2000Hz\": 128\n",
    "                }"
   ]
  },
  {
   "cell_type": "code",
   "execution_count": 6,
   "metadata": {},
   "outputs": [],
   "source": [
    "# make empty rdm mat and prepare all combos of decoding\n",
    "\n",
    "#empty mat\n",
    "scoreMat = np.empty((4, 4))\n",
    "scoreMat[:] = np.nan\n",
    "\n",
    "# prepare \n",
    "vector = np.arange(0,4)\n",
    "combinations = np.array(list(itertools.product([0, 1], repeat=len(vector))))\n",
    "\n",
    "sums = np.sum(combinations, 1)\n",
    "ind2 = np.where(sums == 2)[0]\n",
    "combinations = combinations[ind2]\n",
    "\n",
    "ones_indices = []\n",
    "for row in combinations:\n",
    "    ones_indices.append(np.where(row == 1)[0])\n",
    "\n",
    "ones_indices = np.array(ones_indices)\n"
   ]
  },
  {
   "cell_type": "code",
   "execution_count": 7,
   "metadata": {},
   "outputs": [
    {
     "data": {
      "application/vnd.jupyter.widget-view+json": {
       "model_id": "2a77a3a095a7425991db7b382f471c45",
       "version_major": 2,
       "version_minor": 0
      },
      "text/plain": [
       "  0%|          | Fitting SlidingEstimator : 0/1 [00:00<?,       ?it/s]"
      ]
     },
     "metadata": {},
     "output_type": "display_data"
    },
    {
     "name": "stderr",
     "output_type": "stream",
     "text": [
      "0.01s - Debugger warning: It seems that frozen modules are being used, which may\n",
      "0.00s - make the debugger miss breakpoints. Please pass -Xfrozen_modules=off\n",
      "0.00s - to python to disable frozen modules.\n",
      "0.00s - Note: Debugging will proceed. Set PYDEVD_DISABLE_FILE_VALIDATION=1 to disable this validation.\n"
     ]
    },
    {
     "data": {
      "application/vnd.jupyter.widget-view+json": {
       "model_id": "c9836670c35343caa14d35a24bea02e4",
       "version_major": 2,
       "version_minor": 0
      },
      "text/plain": [
       "  0%|          | Fitting SlidingEstimator : 0/1 [00:00<?,       ?it/s]"
      ]
     },
     "metadata": {},
     "output_type": "display_data"
    },
    {
     "data": {
      "application/vnd.jupyter.widget-view+json": {
       "model_id": "9d4cb67cb65542bfb096b57b33528692",
       "version_major": 2,
       "version_minor": 0
      },
      "text/plain": [
       "  0%|          | Fitting SlidingEstimator : 0/1 [00:00<?,       ?it/s]"
      ]
     },
     "metadata": {},
     "output_type": "display_data"
    },
    {
     "data": {
      "application/vnd.jupyter.widget-view+json": {
       "model_id": "dde6f02c40a64bdaa3502afe4d34083b",
       "version_major": 2,
       "version_minor": 0
      },
      "text/plain": [
       "  0%|          | Fitting SlidingEstimator : 0/1 [00:00<?,       ?it/s]"
      ]
     },
     "metadata": {},
     "output_type": "display_data"
    },
    {
     "name": "stderr",
     "output_type": "stream",
     "text": [
      "ERROR:tornado.general:SEND Error: Host unreachable\n"
     ]
    },
    {
     "data": {
      "application/vnd.jupyter.widget-view+json": {
       "model_id": "fed73ae963b2467e99edd11424eb6a42",
       "version_major": 2,
       "version_minor": 0
      },
      "text/plain": [
       "  0%|          | Fitting SlidingEstimator : 0/1 [00:00<?,       ?it/s]"
      ]
     },
     "metadata": {},
     "output_type": "display_data"
    },
    {
     "data": {
      "application/vnd.jupyter.widget-view+json": {
       "model_id": "7f64de63b1fc49669ab6ff3fcd13b134",
       "version_major": 2,
       "version_minor": 0
      },
      "text/plain": [
       "  0%|          | Fitting SlidingEstimator : 0/1 [00:00<?,       ?it/s]"
      ]
     },
     "metadata": {},
     "output_type": "display_data"
    },
    {
     "data": {
      "application/vnd.jupyter.widget-view+json": {
       "model_id": "f04f0a7ec17c4eab8f9233cfe58805ad",
       "version_major": 2,
       "version_minor": 0
      },
      "text/plain": [
       "  0%|          | Fitting SlidingEstimator : 0/1 [00:00<?,       ?it/s]"
      ]
     },
     "metadata": {},
     "output_type": "display_data"
    },
    {
     "data": {
      "application/vnd.jupyter.widget-view+json": {
       "model_id": "08de5f1477c64722961004bb246019c4",
       "version_major": 2,
       "version_minor": 0
      },
      "text/plain": [
       "  0%|          | Fitting SlidingEstimator : 0/1 [00:00<?,       ?it/s]"
      ]
     },
     "metadata": {},
     "output_type": "display_data"
    },
    {
     "data": {
      "application/vnd.jupyter.widget-view+json": {
       "model_id": "9889216d3ced45778edf0817a69c86ca",
       "version_major": 2,
       "version_minor": 0
      },
      "text/plain": [
       "  0%|          | Fitting SlidingEstimator : 0/1 [00:00<?,       ?it/s]"
      ]
     },
     "metadata": {},
     "output_type": "display_data"
    },
    {
     "data": {
      "application/vnd.jupyter.widget-view+json": {
       "model_id": "a616dd79244241369e850f0be467333b",
       "version_major": 2,
       "version_minor": 0
      },
      "text/plain": [
       "  0%|          | Fitting SlidingEstimator : 0/1 [00:00<?,       ?it/s]"
      ]
     },
     "metadata": {},
     "output_type": "display_data"
    },
    {
     "data": {
      "application/vnd.jupyter.widget-view+json": {
       "model_id": "f177379e458a484f8f2a50ba3036d83b",
       "version_major": 2,
       "version_minor": 0
      },
      "text/plain": [
       "  0%|          | Fitting SlidingEstimator : 0/1 [00:00<?,       ?it/s]"
      ]
     },
     "metadata": {},
     "output_type": "display_data"
    },
    {
     "data": {
      "application/vnd.jupyter.widget-view+json": {
       "model_id": "961490c3f65c4fbcb86f340dfd50e501",
       "version_major": 2,
       "version_minor": 0
      },
      "text/plain": [
       "  0%|          | Fitting SlidingEstimator : 0/1 [00:00<?,       ?it/s]"
      ]
     },
     "metadata": {},
     "output_type": "display_data"
    },
    {
     "data": {
      "application/vnd.jupyter.widget-view+json": {
       "model_id": "3f3c6decb3c44146a926012eaa0a49a2",
       "version_major": 2,
       "version_minor": 0
      },
      "text/plain": [
       "  0%|          | Fitting SlidingEstimator : 0/1 [00:00<?,       ?it/s]"
      ]
     },
     "metadata": {},
     "output_type": "display_data"
    },
    {
     "data": {
      "application/vnd.jupyter.widget-view+json": {
       "model_id": "362e4267edd74fccb367adab8b81af54",
       "version_major": 2,
       "version_minor": 0
      },
      "text/plain": [
       "  0%|          | Fitting SlidingEstimator : 0/1 [00:00<?,       ?it/s]"
      ]
     },
     "metadata": {},
     "output_type": "display_data"
    },
    {
     "data": {
      "application/vnd.jupyter.widget-view+json": {
       "model_id": "6f801a5a2e464bdca083157a211a55f8",
       "version_major": 2,
       "version_minor": 0
      },
      "text/plain": [
       "  0%|          | Fitting SlidingEstimator : 0/1 [00:00<?,       ?it/s]"
      ]
     },
     "metadata": {},
     "output_type": "display_data"
    },
    {
     "data": {
      "application/vnd.jupyter.widget-view+json": {
       "model_id": "da269105f0ef4aa9badb526355ce5b1b",
       "version_major": 2,
       "version_minor": 0
      },
      "text/plain": [
       "  0%|          | Fitting SlidingEstimator : 0/1 [00:00<?,       ?it/s]"
      ]
     },
     "metadata": {},
     "output_type": "display_data"
    },
    {
     "data": {
      "application/vnd.jupyter.widget-view+json": {
       "model_id": "584f6661d48c487e9f7aed440be74c31",
       "version_major": 2,
       "version_minor": 0
      },
      "text/plain": [
       "  0%|          | Fitting SlidingEstimator : 0/1 [00:00<?,       ?it/s]"
      ]
     },
     "metadata": {},
     "output_type": "display_data"
    },
    {
     "data": {
      "application/vnd.jupyter.widget-view+json": {
       "model_id": "b4edd6b1c48e48d5bd92c09f30732421",
       "version_major": 2,
       "version_minor": 0
      },
      "text/plain": [
       "  0%|          | Fitting SlidingEstimator : 0/1 [00:00<?,       ?it/s]"
      ]
     },
     "metadata": {},
     "output_type": "display_data"
    },
    {
     "data": {
      "application/vnd.jupyter.widget-view+json": {
       "model_id": "c215b65b901545cea1e55612db079425",
       "version_major": 2,
       "version_minor": 0
      },
      "text/plain": [
       "  0%|          | Fitting SlidingEstimator : 0/1 [00:00<?,       ?it/s]"
      ]
     },
     "metadata": {},
     "output_type": "display_data"
    },
    {
     "data": {
      "application/vnd.jupyter.widget-view+json": {
       "model_id": "3a9afce6578d48e9a2e4b2f7ab75f9ec",
       "version_major": 2,
       "version_minor": 0
      },
      "text/plain": [
       "  0%|          | Fitting SlidingEstimator : 0/1 [00:00<?,       ?it/s]"
      ]
     },
     "metadata": {},
     "output_type": "display_data"
    },
    {
     "data": {
      "application/vnd.jupyter.widget-view+json": {
       "model_id": "7c9c4adae82e4a228bb2c2dab74e0ae0",
       "version_major": 2,
       "version_minor": 0
      },
      "text/plain": [
       "  0%|          | Fitting SlidingEstimator : 0/1 [00:00<?,       ?it/s]"
      ]
     },
     "metadata": {},
     "output_type": "display_data"
    },
    {
     "data": {
      "application/vnd.jupyter.widget-view+json": {
       "model_id": "e57c2ca55a0e4666987a666af3e31964",
       "version_major": 2,
       "version_minor": 0
      },
      "text/plain": [
       "  0%|          | Fitting SlidingEstimator : 0/1 [00:00<?,       ?it/s]"
      ]
     },
     "metadata": {},
     "output_type": "display_data"
    },
    {
     "data": {
      "application/vnd.jupyter.widget-view+json": {
       "model_id": "0acde301405849aeb3ca10cf5e45a494",
       "version_major": 2,
       "version_minor": 0
      },
      "text/plain": [
       "  0%|          | Fitting SlidingEstimator : 0/1 [00:00<?,       ?it/s]"
      ]
     },
     "metadata": {},
     "output_type": "display_data"
    },
    {
     "data": {
      "application/vnd.jupyter.widget-view+json": {
       "model_id": "238877c9275d4468ad18bbab42c77136",
       "version_major": 2,
       "version_minor": 0
      },
      "text/plain": [
       "  0%|          | Fitting SlidingEstimator : 0/1 [00:00<?,       ?it/s]"
      ]
     },
     "metadata": {},
     "output_type": "display_data"
    }
   ],
   "source": [
    "clf = make_pipeline(StandardScaler(), LinearDiscriminantAnalysis())\n",
    "time_decod = SlidingEstimator(clf, n_jobs=None, scoring=\"balanced_accuracy\", verbose=True)\n",
    "\n",
    "for ii in range(len(ones_indices)):\n",
    "    str0 = list(epochs.event_id)[ones_indices[ii,0]]\n",
    "    str1 = list(epochs.event_id)[ones_indices[ii,1]]\n",
    "    #print(str0, str1)\n",
    "    alldata = epochs[str0].get_data()\n",
    "    alldata = np.concatenate((alldata, epochs[str1].get_data()), axis=0)\n",
    "    \n",
    "    labelvec = np.append(np.zeros(epochs[str0].get_data().shape[0]),\n",
    "                            np.ones(epochs[str1].get_data().shape[0]))\n",
    "    \n",
    "    alldata = alldata.reshape(alldata.shape[0], alldata.shape[1]*alldata.shape[2],1) #maintain 3D array to “trick“ SlidingEstimator\n",
    "    \n",
    "    scores = cross_val_multiscore(time_decod, alldata, labelvec, cv=4, n_jobs=None)\n",
    "    \n",
    "    scoreMat[ones_indices[ii,1], ones_indices[ii,0]] = np.mean(scores)\n",
    "    "
   ]
  },
  {
   "cell_type": "code",
   "execution_count": 23,
   "metadata": {},
   "outputs": [
    {
     "data": {
      "image/png": "[encoded data removed]",
      "text/plain": [
       "<Figure size 640x480 with 2 Axes>"
      ]
     },
     "metadata": {},
     "output_type": "display_data"
    }
   ],
   "source": [
    "ax = sns.heatmap(scoreMat, cmap='coolwarm', annot=True, vmin = .35, vmax = .65)\n",
    "ax.invert_yaxis()\n",
    "ax.invert_xaxis()\n",
    "\n",
    "plt.show()\n"
   ]
  },
  {
   "cell_type": "markdown",
   "metadata": {},
   "source": [
    "Let's make 2 conceptual models:\n",
    "- the first one assumes that only the highest and lowest tone are differentiate (mod0)\n",
    "- the second model assumes sounds the differenation will be stronger the further the carrier frequencyies are apart (mod1)"
   ]
  },
  {
   "cell_type": "code",
   "execution_count": 100,
   "metadata": {},
   "outputs": [
    {
     "data": {
      "image/png": "[encoded data removed]",
      "text/plain": [
       "<Figure size 640x480 with 4 Axes>"
      ]
     },
     "metadata": {},
     "output_type": "display_data"
    }
   ],
   "source": [
    "mod0 = np.tril(np.zeros((4,4)), -1)\n",
    "mod0[np.triu_indices(4)] = np.nan\n",
    "mod0[3,0] = 1 \n",
    "\n",
    "cfvec = np.log10(np.array([200, 431, 928, 2000]))\n",
    "\n",
    "mod1 = np.subtract.outer(cfvec, cfvec)\n",
    "mod1 = np.abs(diffs)\n",
    "\n",
    "mod1[np.triu_indices(4)] = np.nan\n",
    "\n",
    "\n",
    "# Now plot\n",
    "\n",
    "f, axes = plt.subplots(1, 2)\n",
    "sns.heatmap(mod0, cmap='coolwarm', annot=True, vmin = 0, vmax = 1, ax = axes[0]).set(title = \"Model 0\")\n",
    "axes[0].invert_yaxis()\n",
    "axes[0].invert_xaxis()\n",
    "\n",
    "sns.heatmap(mod1, cmap='coolwarm', annot=True, vmin = 0, vmax = 1, ax = axes[1]).set(title = \"Model 1\")\n",
    "axes[1].invert_yaxis()\n",
    "axes[1].invert_xaxis()\n",
    "plt.show()\n",
    "\n"
   ]
  },
  {
   "cell_type": "markdown",
   "metadata": {},
   "source": [
    "Let's perform a Spearman Rank Correlation to see which model describes the data better."
   ]
  },
  {
   "cell_type": "code",
   "execution_count": 101,
   "metadata": {},
   "outputs": [
    {
     "name": "stdout",
     "output_type": "stream",
     "text": [
      "Spearman correlation between mod0 and scoreMat: 0.6546536707079772\n",
      "Spearman correlation between mod1 and scoreMat: 0.8857142857142858\n"
     ]
    }
   ],
   "source": [
    "# get non-NaN values from mod0 and scoreMat\n",
    "mod0_nonan = mod0[~np.isnan(scoreMat)]\n",
    "mod1_nonan = mod1[~np.isnan(scoreMat)]\n",
    "\n",
    "scoreMat_nonan = scoreMat[~np.isnan(scoreMat)] \n",
    "\n",
    "#we need to add a little variance to mod0 to make correlation calculation work\n",
    "#mod0_nonan = mod0_nonan + np.random.uniform(low=-0.000000000000001, high=0.000000000000001, size=len(mod0_nonan)) \n",
    "\n",
    "# calculate spearman correlation\n",
    "corr_mod0, pval = spearmanr(mod0_nonan, scoreMat_nonan)\n",
    "corr_mod1, pval = spearmanr(mod1_nonan, scoreMat_nonan)\n",
    "\n",
    "\n",
    "print(\"Spearman correlation between mod0 and scoreMat:\", corr_mod0)\n",
    "print(\"Spearman correlation between mod1 and scoreMat:\", corr_mod1)\n"
   ]
  },
  {
   "cell_type": "markdown",
   "metadata": {},
   "source": [
    "The similarity value above is static, but we have also got time information. So what we need is to have the neural RDM calculated per sampling point and then calcute the correlations fpr each time point."
   ]
  },
  {
   "cell_type": "code",
   "execution_count": 109,
   "metadata": {},
   "outputs": [
    {
     "data": {
      "application/vnd.jupyter.widget-view+json": {
       "model_id": "d2cf102031b14d2683f152a33a34560e",
       "version_major": 2,
       "version_minor": 0
      },
      "text/plain": [
       "  0%|          | Fitting SlidingEstimator : 0/71 [00:00<?,       ?it/s]"
      ]
     },
     "metadata": {},
     "output_type": "display_data"
    },
    {
     "data": {
      "application/vnd.jupyter.widget-view+json": {
       "model_id": "d4b5d47fe6ac48c7a708c3a19dd5d1c6",
       "version_major": 2,
       "version_minor": 0
      },
      "text/plain": [
       "  0%|          | Fitting SlidingEstimator : 0/71 [00:00<?,       ?it/s]"
      ]
     },
     "metadata": {},
     "output_type": "display_data"
    },
    {
     "data": {
      "application/vnd.jupyter.widget-view+json": {
       "model_id": "7c00a74a6bf94c368f33a4a95b422b6a",
       "version_major": 2,
       "version_minor": 0
      },
      "text/plain": [
       "  0%|          | Fitting SlidingEstimator : 0/71 [00:00<?,       ?it/s]"
      ]
     },
     "metadata": {},
     "output_type": "display_data"
    },
    {
     "data": {
      "application/vnd.jupyter.widget-view+json": {
       "model_id": "60fbabf4d55444cdabafa0912e1a4747",
       "version_major": 2,
       "version_minor": 0
      },
      "text/plain": [
       "  0%|          | Fitting SlidingEstimator : 0/71 [00:00<?,       ?it/s]"
      ]
     },
     "metadata": {},
     "output_type": "display_data"
    },
    {
     "data": {
      "application/vnd.jupyter.widget-view+json": {
       "model_id": "576704dae63346c2aaf4b98328985edd",
       "version_major": 2,
       "version_minor": 0
      },
      "text/plain": [
       "  0%|          | Fitting SlidingEstimator : 0/71 [00:00<?,       ?it/s]"
      ]
     },
     "metadata": {},
     "output_type": "display_data"
    },
    {
     "data": {
      "application/vnd.jupyter.widget-view+json": {
       "model_id": "b392f0502bbc470f967c6f8f94c55be3",
       "version_major": 2,
       "version_minor": 0
      },
      "text/plain": [
       "  0%|          | Fitting SlidingEstimator : 0/71 [00:00<?,       ?it/s]"
      ]
     },
     "metadata": {},
     "output_type": "display_data"
    },
    {
     "data": {
      "application/vnd.jupyter.widget-view+json": {
       "model_id": "6d494f1211a64ebf8c95c36a5f2efa67",
       "version_major": 2,
       "version_minor": 0
      },
      "text/plain": [
       "  0%|          | Fitting SlidingEstimator : 0/71 [00:00<?,       ?it/s]"
      ]
     },
     "metadata": {},
     "output_type": "display_data"
    },
    {
     "data": {
      "application/vnd.jupyter.widget-view+json": {
       "model_id": "881373f3eeed482dad72d57c78bacb02",
       "version_major": 2,
       "version_minor": 0
      },
      "text/plain": [
       "  0%|          | Fitting SlidingEstimator : 0/71 [00:00<?,       ?it/s]"
      ]
     },
     "metadata": {},
     "output_type": "display_data"
    },
    {
     "data": {
      "application/vnd.jupyter.widget-view+json": {
       "model_id": "474878aac60248dba5b659ff7b3ababa",
       "version_major": 2,
       "version_minor": 0
      },
      "text/plain": [
       "  0%|          | Fitting SlidingEstimator : 0/71 [00:00<?,       ?it/s]"
      ]
     },
     "metadata": {},
     "output_type": "display_data"
    },
    {
     "data": {
      "application/vnd.jupyter.widget-view+json": {
       "model_id": "76756c2806094a30951e32429ac7449f",
       "version_major": 2,
       "version_minor": 0
      },
      "text/plain": [
       "  0%|          | Fitting SlidingEstimator : 0/71 [00:00<?,       ?it/s]"
      ]
     },
     "metadata": {},
     "output_type": "display_data"
    },
    {
     "data": {
      "application/vnd.jupyter.widget-view+json": {
       "model_id": "962d436c4eab4b7d994fa87879bf105b",
       "version_major": 2,
       "version_minor": 0
      },
      "text/plain": [
       "  0%|          | Fitting SlidingEstimator : 0/71 [00:00<?,       ?it/s]"
      ]
     },
     "metadata": {},
     "output_type": "display_data"
    },
    {
     "data": {
      "application/vnd.jupyter.widget-view+json": {
       "model_id": "1be88068d2984af79f63fdfe27b3b91c",
       "version_major": 2,
       "version_minor": 0
      },
      "text/plain": [
       "  0%|          | Fitting SlidingEstimator : 0/71 [00:00<?,       ?it/s]"
      ]
     },
     "metadata": {},
     "output_type": "display_data"
    },
    {
     "data": {
      "application/vnd.jupyter.widget-view+json": {
       "model_id": "83a1b47b8d2d432dba5e723b04773595",
       "version_major": 2,
       "version_minor": 0
      },
      "text/plain": [
       "  0%|          | Fitting SlidingEstimator : 0/71 [00:00<?,       ?it/s]"
      ]
     },
     "metadata": {},
     "output_type": "display_data"
    },
    {
     "data": {
      "application/vnd.jupyter.widget-view+json": {
       "model_id": "3965fd0265774b4aa2a7b60fc6139128",
       "version_major": 2,
       "version_minor": 0
      },
      "text/plain": [
       "  0%|          | Fitting SlidingEstimator : 0/71 [00:00<?,       ?it/s]"
      ]
     },
     "metadata": {},
     "output_type": "display_data"
    },
    {
     "data": {
      "application/vnd.jupyter.widget-view+json": {
       "model_id": "883f3cf1bb4d41d5a178e2fa7caf9b49",
       "version_major": 2,
       "version_minor": 0
      },
      "text/plain": [
       "  0%|          | Fitting SlidingEstimator : 0/71 [00:00<?,       ?it/s]"
      ]
     },
     "metadata": {},
     "output_type": "display_data"
    },
    {
     "data": {
      "application/vnd.jupyter.widget-view+json": {
       "model_id": "77a682400aea4dadbf72600792a4e330",
       "version_major": 2,
       "version_minor": 0
      },
      "text/plain": [
       "  0%|          | Fitting SlidingEstimator : 0/71 [00:00<?,       ?it/s]"
      ]
     },
     "metadata": {},
     "output_type": "display_data"
    },
    {
     "data": {
      "application/vnd.jupyter.widget-view+json": {
       "model_id": "191f39f08cb6490982a590560c450464",
       "version_major": 2,
       "version_minor": 0
      },
      "text/plain": [
       "  0%|          | Fitting SlidingEstimator : 0/71 [00:00<?,       ?it/s]"
      ]
     },
     "metadata": {},
     "output_type": "display_data"
    },
    {
     "data": {
      "application/vnd.jupyter.widget-view+json": {
       "model_id": "8087b44f9cf54c31ae0fb9eccac3504d",
       "version_major": 2,
       "version_minor": 0
      },
      "text/plain": [
       "  0%|          | Fitting SlidingEstimator : 0/71 [00:00<?,       ?it/s]"
      ]
     },
     "metadata": {},
     "output_type": "display_data"
    },
    {
     "data": {
      "application/vnd.jupyter.widget-view+json": {
       "model_id": "2b01ea8453c3491390ed0f49fca843af",
       "version_major": 2,
       "version_minor": 0
      },
      "text/plain": [
       "  0%|          | Fitting SlidingEstimator : 0/71 [00:00<?,       ?it/s]"
      ]
     },
     "metadata": {},
     "output_type": "display_data"
    },
    {
     "data": {
      "application/vnd.jupyter.widget-view+json": {
       "model_id": "454df24435194b3780c0d64bb99ba9a6",
       "version_major": 2,
       "version_minor": 0
      },
      "text/plain": [
       "  0%|          | Fitting SlidingEstimator : 0/71 [00:00<?,       ?it/s]"
      ]
     },
     "metadata": {},
     "output_type": "display_data"
    },
    {
     "data": {
      "application/vnd.jupyter.widget-view+json": {
       "model_id": "d14f44424526414887c16c824394e41d",
       "version_major": 2,
       "version_minor": 0
      },
      "text/plain": [
       "  0%|          | Fitting SlidingEstimator : 0/71 [00:00<?,       ?it/s]"
      ]
     },
     "metadata": {},
     "output_type": "display_data"
    },
    {
     "data": {
      "application/vnd.jupyter.widget-view+json": {
       "model_id": "3b84571207494563929a6acbdd746dce",
       "version_major": 2,
       "version_minor": 0
      },
      "text/plain": [
       "  0%|          | Fitting SlidingEstimator : 0/71 [00:00<?,       ?it/s]"
      ]
     },
     "metadata": {},
     "output_type": "display_data"
    },
    {
     "data": {
      "application/vnd.jupyter.widget-view+json": {
       "model_id": "32495dcb03e54ff081941226f9cd45d7",
       "version_major": 2,
       "version_minor": 0
      },
      "text/plain": [
       "  0%|          | Fitting SlidingEstimator : 0/71 [00:00<?,       ?it/s]"
      ]
     },
     "metadata": {},
     "output_type": "display_data"
    },
    {
     "data": {
      "application/vnd.jupyter.widget-view+json": {
       "model_id": "81f29e2d35e4486185c9d37a2948f770",
       "version_major": 2,
       "version_minor": 0
      },
      "text/plain": [
       "  0%|          | Fitting SlidingEstimator : 0/71 [00:00<?,       ?it/s]"
      ]
     },
     "metadata": {},
     "output_type": "display_data"
    }
   ],
   "source": [
    "#empty mat\n",
    "scoreMat = np.empty((4, 4, epochs[str0].get_data().shape[2]))\n",
    "scoreMat[:] = np.nan\n",
    "\n",
    "clf = make_pipeline(StandardScaler(), LinearDiscriminantAnalysis())\n",
    "time_decod = SlidingEstimator(clf, n_jobs=None, scoring=\"balanced_accuracy\", verbose=True)\n",
    "\n",
    "\n",
    "for ii in range(len(ones_indices)):\n",
    "    str0 = list(epochs.event_id)[ones_indices[ii,0]]\n",
    "    str1 = list(epochs.event_id)[ones_indices[ii,1]]\n",
    "    #print(str0, str1)\n",
    "    alldata = epochs[str0].get_data()\n",
    "    alldata = np.concatenate((alldata, epochs[str1].get_data()), axis=0)\n",
    "        \n",
    "    labelvec = np.append(np.zeros(epochs[str0].get_data().shape[0]),\n",
    "                                np.ones(epochs[str1].get_data().shape[0]))\n",
    "            \n",
    "    scores = cross_val_multiscore(time_decod, alldata, labelvec, cv=4, n_jobs=None)\n",
    "        \n",
    "    scoreMat[ones_indices[ii,1], ones_indices[ii,0], ] = np.mean(scores, axis=0)"
   ]
  },
  {
   "cell_type": "code",
   "execution_count": 113,
   "metadata": {},
   "outputs": [
    {
     "data": {
      "image/png": "[encoded data removed]",
      "text/plain": [
       "<Figure size 640x480 with 2 Axes>"
      ]
     },
     "metadata": {},
     "output_type": "display_data"
    }
   ],
   "source": [
    "# some random RDM\n",
    "ax = sns.heatmap(scoreMat[:,:,40], cmap='coolwarm', annot=True, vmin = .35, vmax = .65)\n",
    "ax.invert_yaxis()\n",
    "ax.invert_xaxis()\n",
    "\n",
    "plt.show()"
   ]
  },
  {
   "cell_type": "code",
   "execution_count": 114,
   "metadata": {},
   "outputs": [
    {
     "name": "stdout",
     "output_type": "stream",
     "text": [
      "[-0.2, 0.7142857142857143, 0.08571428571428573, -0.2571428571428572, -0.08571428571428573, 0.6, 0.14285714285714288, 0.4285714285714286, 0.48571428571428577, -0.2, -0.14285714285714288, -0.2, -0.3714285714285715, -0.2571428571428572, 0.6571428571428573, 0.2, -0.5428571428571429, -0.2, -0.08571428571428573, 0.028571428571428574, -0.08571428571428573, -0.3142857142857143, -0.2, 0.7714285714285715, 0.8285714285714287, 0.5428571428571429, 0.5428571428571429, 0.7714285714285715, 0.6, 0.48571428571428577, 0.942857142857143, 0.7714285714285715, 0.3714285714285715, 0.3714285714285715, 0.48571428571428577, 0.7714285714285715, -0.08571428571428573, -0.2571428571428572, 0.08571428571428573, 0.5428571428571429, 0.3142857142857143, 0.08571428571428573, 0.2, 0.2571428571428572, 0.2571428571428572, -0.3142857142857143, 0.08571428571428573, 0.028571428571428574, 0.028571428571428574, 0.6, -0.028571428571428574, -0.14285714285714288, -0.5428571428571429, -0.3142857142857143, -0.3714285714285715, -0.2, -0.2, -0.2, 0.08571428571428573, -0.08571428571428573, -0.6, -0.48571428571428577, 0.08571428571428573, 0.08571428571428573, -0.14285714285714288, -0.028571428571428574, -0.028571428571428574, -0.3142857142857143, 0.14285714285714288, 0.3714285714285715, 0.3142857142857143]\n"
     ]
    }
   ],
   "source": [
    "corrmod1_vec = []\n",
    "corrmod0_vec = []\n",
    "for i in range(scoreMat.shape[2]):\n",
    "    scoreMat_nonan = scoreMat[:,:,i][~np.isnan(scoreMat[:,:,i])]\n",
    "    mod1_nonan = mod1[~np.isnan(scoreMat[:,:,i])]\n",
    "    corr, pval = spearmanr(mod1_nonan, scoreMat_nonan)\n",
    "    corrmod1_vec.append(corr)\n",
    "    \n",
    "    mod0_nonan = mod0[~np.isnan(scoreMat[:,:,i])]\n",
    "    corr, pval = spearmanr(mod0_nonan, scoreMat_nonan)\n",
    "    corrmod0_vec.append(corr)\n",
    "    \n",
    "print(corrmod1_vec)\n"
   ]
  },
  {
   "cell_type": "code",
   "execution_count": 116,
   "metadata": {},
   "outputs": [
    {
     "data": {
      "text/plain": [
       "[<matplotlib.lines.Line2D at 0x16c2a3490>]"
      ]
     },
     "execution_count": 116,
     "metadata": {},
     "output_type": "execute_result"
    },
    {
     "data": {
      "image/png": "[encoded data removed]",
      "text/plain": [
       "<Figure size 640x480 with 1 Axes>"
      ]
     },
     "metadata": {},
     "output_type": "display_data"
    }
   ],
   "source": [
    "plt.plot(epochs.times, corrmod1_vec)"
   ]
  }
 ],
 "metadata": {
  "kernelspec": {
   "display_name": "Python 3",
   "language": "python",
   "name": "python3"
  },
  "language_info": {
   "codemirror_mode": {
    "name": "ipython",
    "version": 3
   },
   "file_extension": ".py",
   "mimetype": "text/x-python",
   "name": "python",
   "nbconvert_exporter": "python",
   "pygments_lexer": "ipython3",
   "version": "3.11.6"
  }
 },
 "nbformat": 4,
 "nbformat_minor": 2
}
